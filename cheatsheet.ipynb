{
 "cells": [
  {
   "cell_type": "markdown",
   "metadata": {},
   "source": [
    "## Process\n",
    "\n",
    "1. Understand the problem (2m)\n",
    "2. Design the algo (5-7m)\n",
    "\t1. Explain the solution\n",
    "\t2. Get buy-in\n",
    "3. Code the solution (20-25m)\n",
    "\t- Don't forget to refactor\n",
    "4. Verify the solution (5-8m)\n",
    "\t1. Fix bugs\n",
    "\n",
    "## Boundaries\n",
    "\n",
    "> [!caution]\n",
    "> Make sure to establish the terms first, e.g. `s = len(string)`\n",
    "\n",
    "- Lower, output\n",
    "- Lower, task\n",
    "- Upper, naive\n",
    "- Upper, constraints\n",
    "\n",
    "| Complexity   | Max         | Rounded |\n",
    "| ------------ | :---------- | ------- |\n",
    "| `O(n!)`      | 11          | 10      |\n",
    "| `O(2^n)`     | 27          | 30      |\n",
    "| `O(n^3)`     | 584         | 500     |\n",
    "| `O(n^2)`     | 14,142      | 15k     |\n",
    "| `O(n log n)` | 8,677,239   | 10M     |\n",
    "| `O(n)`       | 200,000,000 | 200M    |\n",
    "| `O(log n)`   | Super high  |         |\n",
    "| `O(1)`       | Infinite    |         |\n",
    "\n",
    "## Math\n",
    "\n",
    "- Number of nodes in a tree\n",
    "\t- d :: depth\n",
    "\t- b :: branching factor (i.e. how many branches per node)\n",
    "\t- $O(b^d)$\n",
    "- Factorial\n",
    "\t- n!\n",
    "\t- Product of integer and all integers below it\n",
    "\t- $1 * 2 * 3 * … * n$\n",
    "\t- Trigger :: **permutation**\n",
    "- Fibonacci\n",
    "\t- 0, 1, 1, 2, 3, 5, 8, 13…\n",
    "\t- $f(n) = f(n-1) + f(n-2)$\n"
   ]
  }
 ],
 "metadata": {
  "language_info": {
   "name": "python"
  }
 },
 "nbformat": 4,
 "nbformat_minor": 2
}
