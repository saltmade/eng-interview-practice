{
 "cells": [
  {
   "cell_type": "markdown",
   "metadata": {},
   "source": [
    "## Seeker Writer pattern\n",
    "\n",
    "```\n",
    "seeker, writer = 0, 0\n",
    "while seeker < len(arr):\n",
    "    if we need to keep arr[seeker]:\n",
    "        arr[writer] = arr[seeker]\n",
    "        advance writer and seeker\n",
    "    else\n",
    "        advance seeker\n",
    "```"
   ]
  }
 ],
 "metadata": {
  "language_info": {
   "name": "python"
  }
 },
 "nbformat": 4,
 "nbformat_minor": 2
}
