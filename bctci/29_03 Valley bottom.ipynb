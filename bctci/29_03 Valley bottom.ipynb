{
 "cells": [
  {
   "cell_type": "markdown",
   "metadata": {},
   "source": [
    "# Valley Bottom\n",
    "\n",
    "A valley shaped array is an array of integers such that:\n",
    "- It can be split into a non-empty prefix and a non-empty suffix\n",
    "- the prefix is sorted in decreasing order\n",
    "- the suffix is sorted in increasing order\n",
    "- all the elements are unique\n",
    "\n",
    "Given a valley shaped array `arr`, return the smallest value"
   ]
  },
  {
   "cell_type": "markdown",
   "metadata": {},
   "source": [
    "# 2025-04-03\n",
    "\n",
    "Example\n",
    "```\n",
    "0 1 2 3 4 5\n",
    "6 5 4 3|7 8\n",
    "    l\n",
    "      r\n",
    "      m\n",
    "\n",
    "\n",
    "3 3 5\n",
    "```\n"
   ]
  },
  {
   "cell_type": "code",
   "execution_count": null,
   "metadata": {},
   "outputs": [],
   "source": [
    "def is_before(val, next_val):\n",
    "    return val >= next_val\n",
    "\n",
    "def valley(arr):\n",
    "    l, r = 0, len(arr) - 1\n",
    "    while r - l > 1:\n",
    "        mid = (r + l) // 2\n",
    "        if is_before(arr[mid], arr[mid+1]): # 4 5\n",
    "            l = mid\n",
    "        else:\n",
    "            r = mid\n",
    "    \n",
    "    return arr[r]"
   ]
  },
  {
   "cell_type": "markdown",
   "metadata": {},
   "source": [
    "### Result\n",
    "- Missed the [3, 4, 5] case, where the first value is the before\n",
    "- Could have caught this using `min(arr[l], arr[r])`\n",
    "- Note also the problem statement that \"all elements are unique\"\n",
    "    - This is why we can use binary search effectively for this problem\n",
    "    - If repeated elements were allowed, you could get stuck in a run of values and not know if you're in the before or after: `4 4 4`"
   ]
  }
 ],
 "metadata": {
  "language_info": {
   "name": "python"
  }
 },
 "nbformat": 4,
 "nbformat_minor": 2
}
