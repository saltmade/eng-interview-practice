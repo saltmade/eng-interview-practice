{
 "cells": [
  {
   "cell_type": "markdown",
   "metadata": {},
   "source": [
    "# 27.18 Shift word to back\n",
    "\n",
    "You are given an array of letters `arr`, and a string `word`. We know that `word` appears within `arr` as a *subsequence* (its letters appear in order, though not necessarily contiguously). Identify the earliest occurence of the `word` in `arr`, and move all those letters, in order, to the end of `arr`. You must do this in-place, using only `O(1)` extra space, and preserve the relative order of botht he moved letters and the remaining letters"
   ]
  },
  {
   "cell_type": "markdown",
   "metadata": {},
   "source": [
    "## 2025-03-25\n",
    "\n",
    "Example\n",
    "```\n",
    "ajbiumbud, bud -> ajimbubud\n",
    "seekerandwriter, edit -> sekeranwrteredit\n",
    "               s \n",
    "           w\n",
    "\n",
    "edit\n",
    "i\n",
    "```\n",
    "\n",
    "Algo 1\n",
    "\n",
    "- Two pointers\n",
    "    - A = len of arr\n",
    "    - W = len of word\n",
    "    - r = A - W\n",
    "\n",
    "Algo 2\n",
    "\n",
    "- Three pointers\n"
   ]
  },
  {
   "cell_type": "code",
   "execution_count": null,
   "metadata": {},
   "outputs": [],
   "source": [
    "# seeker is at the same letter as i, skip it\n",
    "def shift_word(arr, word):\n",
    "    s, w, i = 0, 0, 0\n",
    "    while s < len(arr):\n",
    "        if i < len(word) and arr[s] == word[i]:\n",
    "            s += 1\n",
    "            i += 1\n",
    "        else:\n",
    "            arr[w] = arr[s]\n",
    "            s += 1\n",
    "            w += 1\n",
    "\n",
    "    for char in word:\n",
    "        arr[w] = char\n",
    "        w += 1"
   ]
  },
  {
   "cell_type": "markdown",
   "metadata": {},
   "source": [
    "### Result\n",
    "\n",
    "- My writing of the seeker/writer pattern is still clunky\n",
    "- Part of it is my mental model. I need to run it a few more times to make it feel comfortable/intuitive."
   ]
  }
 ],
 "metadata": {
  "kernelspec": {
   "display_name": "Python 3",
   "language": "python",
   "name": "python3"
  },
  "language_info": {
   "name": "python",
   "version": "3.13.1"
  }
 },
 "nbformat": 4,
 "nbformat_minor": 2
}
