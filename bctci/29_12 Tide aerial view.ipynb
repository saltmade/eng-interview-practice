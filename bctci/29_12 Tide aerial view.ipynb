{
 "cells": [
  {
   "cell_type": "markdown",
   "metadata": {},
   "source": [
    "# Tide Aerial View\n",
    "\n",
    "You are provided a series of aerial-view pictures of the same coastal region, taken a few minutes apart from each other around the time the tide rises. Each picture consists of an `n x n` binary grid, where `0` represents a part of the region above water, and `1` represents a part below water.\n",
    "\n",
    "- The tide appears from the left side and rises toward the right, so, in each picture, for each row, all the 1's will be before all the 0's.\n",
    "- Once a region is under water, it stays under water.\n",
    "\n",
    "Determine which picture shows the most even balance between regions above and below water (i.e., where the number of 1's most closely equals the number of 0's). In the event of a tie, return the earliest picture."
   ]
  },
  {
   "cell_type": "markdown",
   "metadata": {},
   "source": [
    "## 2025-04-09\n",
    "\n",
    "Example\n",
    "```\n",
    "000\n",
    "000\n",
    "000\n",
    "\n",
    "100\n",
    "110\n",
    "100\n",
    "\n",
    "110\n",
    "111\n",
    "100\n",
    "\n",
    "-> 1\n",
    "```\n",
    "\n",
    "n = side of a photo\n",
    "p = length of arr\n",
    "\n",
    "Algo 1\n",
    "- BF\n",
    "- Count all 1s in each, then compare\n",
    "T: O(p*n^2)\n",
    "S: O(1)\n",
    "\n",
    "Algo 2\n",
    "- Binary search over p\n",
    "- Check if the value is less than half\n",
    "T: O(log p * n^2)\n",
    "S: O(1)"
   ]
  },
  {
   "cell_type": "code",
   "execution_count": null,
   "metadata": {},
   "outputs": [],
   "source": [
    "def tide_arial(arr):\n",
    "    half = (len(arr[0])**2) / 2\n",
    "    def count_ones(idx):\n",
    "        photo = arr[idx]\n",
    "        count = 0\n",
    "        for row in photo:\n",
    "            count += sum(row)\n",
    "        return count\n",
    "    \n",
    "    def is_before(idx):\n",
    "        return count_ones(idx) <= half\n",
    "    \n",
    "    l, r = 0, len(arr) - 1\n",
    "    if not is_before(l):\n",
    "        return l\n",
    "    while r - l > 1:\n",
    "        mid = (r + l) // 2\n",
    "        if is_before(mid):\n",
    "            l = mid\n",
    "        else:\n",
    "            r = mid\n",
    "    \n",
    "    l_dist = abs(half - l)\n",
    "    r_dist = abs(half - r)\n",
    "\n",
    "    if l_dist <= r_dist:\n",
    "        return l\n",
    "    else:\n",
    "        return r"
   ]
  },
  {
   "cell_type": "markdown",
   "metadata": {},
   "source": [
    "### Result\n",
    "\n",
    "- Could have improved on complexity by using binary search to count the 1s instead of `sum` - O(n log n) instead of O(n^2)\n",
    "- Messed up the calculation for the count of cells"
   ]
  }
 ],
 "metadata": {
  "language_info": {
   "name": "python"
  }
 },
 "nbformat": 4,
 "nbformat_minor": 2
}
