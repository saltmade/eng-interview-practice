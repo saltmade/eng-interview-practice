{
 "cells": [
  {
   "cell_type": "markdown",
   "metadata": {},
   "source": [
    "# Target Count Divisible by K\n",
    "\n",
    "Given a sorted array of integers, arr, a target value, target, and a positive integer, k, return whether the number of occurrences of the target in the array is a multiple of k."
   ]
  },
  {
   "cell_type": "markdown",
   "metadata": {},
   "source": [
    "## 2025-04-03\n",
    "\n",
    "Example\n",
    "```\n",
    "0 1 2 3 4 5\n",
    "7 8 8 8 9 9\n",
    "l\n",
    "          r\n",
    "    m\n",
    "\n",
    "tar 8\n",
    "k 2\n",
    "\n",
    "Algo 1\n",
    "- Binary search for start and end\n",
    "- Then (end - start) % k\n",
    "\n",
    "n = length of arr\n",
    "T: O(log n)\n",
    "S: O(1)\n",
    "```"
   ]
  },
  {
   "cell_type": "code",
   "execution_count": null,
   "metadata": {},
   "outputs": [],
   "source": [
    "def is_divisible(arr, target, k):\n",
    "    # start\n",
    "    l, r = 0, len(arr) - 1\n",
    "    while r - l > 1:\n",
    "        mid = (l + r) // 2\n",
    "        if arr[mid] < target:\n",
    "            l = mid\n",
    "        else:\n",
    "            r = mid\n",
    "    s = mid\n",
    "    l, r = mid, len(arr) - 1\n",
    "    while r - l > 1:\n",
    "        mid = (l+r) // 2\n",
    "        if arr[mid] <= target:\n",
    "            l = mid\n",
    "        else:\n",
    "            r = mid\n",
    "    e = l\n",
    "\n",
    "    return not bool((e - s) % k)"
   ]
  },
  {
   "cell_type": "markdown",
   "metadata": {},
   "source": [
    "### Result\n",
    "\n",
    "- Didn't consider the target not being in the array, and that it would be `True` if not because `0` is a multiple of every number\n",
    "- Forgot to add `1` since we're subtracting indices, not counts"
   ]
  }
 ],
 "metadata": {
  "language_info": {
   "name": "python"
  }
 },
 "nbformat": 4,
 "nbformat_minor": 2
}
