{
 "cells": [
  {
   "cell_type": "markdown",
   "id": "00327573",
   "metadata": {},
   "source": [
    "# Multi-account Cheating\n",
    "\n",
    "Our company runs an online game where the terms of service state that each person can only have one account. We have a list of usernames and the (unordered) list of IP addresses that they have ever connected from. We say two users are suspected of belonging to the same person if the list of IPs is the same. Return whether any two lists contain the exact same set of IPs."
   ]
  },
  {
   "cell_type": "markdown",
   "id": "ce021139",
   "metadata": {},
   "source": [
    "## 2025-04-20\n",
    "\n",
    "a 204.0.10.111 193.0.10.111 99.110.8.11\n",
    "b 99.110.8.11\n",
    "\n",
    "-> True\n",
    "\n",
    "k = len of keys\n",
    "v = longest set of ips\n",
    "\n",
    "Algo 1\n",
    "- BF\n",
    "- Sort each list\n",
    "- Compare every list to every other list\n",
    "T: O(k^2 * vlogv)\n",
    "S: O(kv)\n",
    "\n",
    "Algo 2\n",
    "- Create sets for each list\n",
    "T: O(k^2 v)\n",
    "S: O(kv)\n",
    "\n",
    "Algo 3\n",
    "- Create tuples from sets\n",
    "- Iterate over values\n",
    "    create set from the value\n",
    "    create tuple from the set\n",
    "    if in the ans set\n",
    "        return True\n",
    "    add to a set\n",
    "    return False if we get through the whole list\n",
    "\n",
    "T: O(kv)\n",
    "S: O(kv)"
   ]
  },
  {
   "cell_type": "code",
   "execution_count": null,
   "id": "089634f5",
   "metadata": {},
   "outputs": [],
   "source": [
    "def cheat_check(ip_addrs):\n",
    "    seen = set()\n",
    "    for ips in ip_addrs.values():\n",
    "        ip_set = set(ips)\n",
    "        ip_tup = tuple(ip_set)\n",
    "        if ip_tup in seen:\n",
    "            return True\n",
    "        seen.add(ip_tup)\n",
    "    \n",
    "    return False"
   ]
  },
  {
   "cell_type": "markdown",
   "id": "60ec0317",
   "metadata": {},
   "source": [
    "### Result\n",
    "\n",
    "- Could have used `frozenset` instead of duplicating the space for a tuple\n",
    "- Since the order was not guaranteed, it would still not be guaranteed once the list is converted to a tuple\n",
    "    - Sorting is the correct answer for creating a cannonical representation"
   ]
  }
 ],
 "metadata": {
  "kernelspec": {
   "display_name": "Python 3",
   "language": "python",
   "name": "python3"
  },
  "language_info": {
   "name": "python",
   "version": "3.13.1"
  }
 },
 "nbformat": 4,
 "nbformat_minor": 5
}
