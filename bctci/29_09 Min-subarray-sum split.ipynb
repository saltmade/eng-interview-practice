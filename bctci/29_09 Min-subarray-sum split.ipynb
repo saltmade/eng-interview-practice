{
 "cells": [
  {
   "cell_type": "markdown",
   "metadata": {},
   "source": [
    "# Min-subarray-sum Split\n",
    "\n",
    "Given a non-empty array with `n` positive integers, `arr`, and a number `k` with `1 ≤ k ≤ n`, the goal is to split `arr` into `k` non-empty subarrays so that the largest sum across all subarrays is minimized. Return the largest sum across all `k` subarrays after making it as small as possible. Each subarray must contain at least one value."
   ]
  },
  {
   "cell_type": "markdown",
   "metadata": {},
   "source": [
    "## 2025-04-08\n",
    "\n",
    "Example\n",
    "```\n",
    "11|3 8|2 1 0 3\n",
    "k = 3\n",
    "\n",
    "1 1|1 1 1|1 1\n",
    "k = 3\n",
    "```"
   ]
  },
  {
   "cell_type": "code",
   "execution_count": null,
   "metadata": {},
   "outputs": [],
   "source": [
    "def k_split(arr, k):\n",
    "    if not k:\n",
    "        return sum(arr)\n",
    "\n",
    "    def is_before(max_val):\n",
    "        splits = k\n",
    "        total = 0\n",
    "        for val in arr:\n",
    "            if total + val > max_val:\n",
    "                splits -= 1\n",
    "                if not splits:\n",
    "                    return True\n",
    "                total = val\n",
    "            else:\n",
    "                total += val\n",
    "\n",
    "        return False\n",
    "    \n",
    "    l, r = max(arr), sum(arr)\n",
    "    # Left val is the highest val by itself\n",
    "    if not is_before(l):\n",
    "        return l\n",
    "\n",
    "    while r - l > 1:\n",
    "        mid = (r + l) // 2\n",
    "        if is_before(mid):\n",
    "            l = mid\n",
    "        else:\n",
    "            r = mid\n",
    "\n",
    "    return r"
   ]
  },
  {
   "cell_type": "markdown",
   "metadata": {},
   "source": [
    "### Result\n",
    "\n",
    "I did not come to this conclusion on my own. The best I came up with was brute force.\n",
    "Parts of the solution I find novel:\n",
    "- Thinking of the values of the subarray as being between the `max(arr)` and `sum(arr)`\n",
    "- Applying binary search not to the array itself, but to a secondary property of the array\n",
    "- Splitting subarrays based on a max total"
   ]
  }
 ],
 "metadata": {
  "language_info": {
   "name": "python"
  }
 },
 "nbformat": 4,
 "nbformat_minor": 2
}
