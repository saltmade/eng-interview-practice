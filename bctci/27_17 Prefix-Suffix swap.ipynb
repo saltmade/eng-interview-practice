{
 "cells": [
  {
   "cell_type": "markdown",
   "metadata": {},
   "source": [
    "# 27.17 Prefix-suffix swap\n",
    "\n",
    "Given an array of letters `arr`, with a length `n` that is a multiple of `3`, modify `arr` in place to move the prefix of length `n/3` to the end, and the suffix of length `2n/3` to teh beginning.\n",
    "I.e. move the first third to the end, and the second 2/3 to the beginning."
   ]
  },
  {
   "cell_type": "markdown",
   "metadata": {},
   "source": [
    "## 2025-03-25\n",
    "\n",
    "Example\n",
    "\n",
    "reviewbad -> badreview\n",
    "   l\n",
    "         r\n",
    "badiewrev\n",
    "      l  \n",
    "         r\n",
    "badreview\n",
    "\n",
    "Algo 1\n",
    "- Two pointers, two passes\n",
    "- T: O(n)\n",
    "- S: O(1)"
   ]
  },
  {
   "cell_type": "code",
   "execution_count": null,
   "metadata": {},
   "outputs": [],
   "source": [
    "def swap(arr):\n",
    "    n = len(arr)\n",
    "    l, r = 0, n - 1 - (n/3)\n",
    "    while r < n:\n",
    "        arr[l], arr[r] = arr[r], arr[l]\n",
    "        l += 1\n",
    "        r += 1\n",
    "    \n",
    "    l, r = (n/3) - 1, n - 1 - (n/3)\n",
    "    while r < n:\n",
    "        arr[l], arr[r] = arr[r], arr[l]\n",
    "        l += 1\n",
    "        r += 1\n"
   ]
  },
  {
   "cell_type": "markdown",
   "metadata": {},
   "source": [
    "## Swap k elements in place\n",
    "- The solution I came up with works because we can easily divide the answer into thirds\n",
    "- If we need to swap `k` elements in an `n` length array, we can instead do a double reversal\n",
    "    1. Reverse the order of the whole array\n",
    "    2. Reverse the final `k` elements\n",
    "    3. Reverse the first `n-k` elements"
   ]
  },
  {
   "cell_type": "code",
   "execution_count": null,
   "metadata": {},
   "outputs": [],
   "source": [
    "def double_swap(arr, k):\n",
    "    def swap(l, r):\n",
    "        while l < r:\n",
    "            arr[l], arr[r] = arr[r], arr[l]\n",
    "            l += 1\n",
    "            r -= 1\n",
    "    swap(0, len(arr) - 1)\n",
    "    swap(len(arr) - k - 1, len(arr) - 1)\n",
    "    swap(0, len(arr) - k - 1)"
   ]
  }
 ],
 "metadata": {
  "kernelspec": {
   "display_name": "Python 3",
   "language": "python",
   "name": "python3"
  },
  "language_info": {
   "name": "python",
   "version": "3.13.1"
  }
 },
 "nbformat": 4,
 "nbformat_minor": 2
}
