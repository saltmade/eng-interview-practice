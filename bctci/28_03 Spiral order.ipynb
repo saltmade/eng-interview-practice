{
 "cells": [
  {
   "cell_type": "markdown",
   "metadata": {},
   "source": [
    "# Spiral Order\n",
    "\n",
    "Given a positive and odd integer `n`, return an `n x n` grid of integers filled in spiral order. It should have every number from 0 to `n^2 -1` in *spiral order*, starting by going down from the center and turning clockwise."
   ]
  },
  {
   "cell_type": "markdown",
   "metadata": {
    "jp-MarkdownHeadingCollapsed": true,
    "jupyter": {
     "source_hidden": true
    }
   },
   "source": [
    "## 2025-03-26\n",
    "\n",
    "Example\n",
    "\n",
    "```\n",
    "1 -> 0\n",
    "3 -> \n",
    "\n",
    "6 7 8\n",
    "5 0 1\n",
    "4 3 2\n",
    "\n",
    "20 21 22 23 24\n",
    "19 06 07 08 09\n",
    "18 05 00 01 10\n",
    "17 04 03 02 11\n",
    "16 15 14 13 12\n",
    "```\n",
    "\n",
    "\n",
    "Algo 1\n",
    "- Administrative\n",
    "    - d1 l1 u2 r2 d3 l3 u4 r4 d5\n",
    "    - Until you reach (0, n) or go out of bounds\n",
    "T: O(n^2)\n",
    "S: O(1)\n",
    "\n",
    "```\n",
    "init a count\n",
    "init a curr pos at center\n",
    "init dir as right\n",
    "init a res\n",
    "for i in range n\n",
    "    if curr is out of bounds, return the res\n",
    "    set curr to i\n",
    "    if count is odd\n",
    "        if dir is right, set dir to down and set curr down\n",
    "        if dir is down: set dir to left, set curr left, and increment count\n",
    "    else\n",
    "        if dir is left, set dir to up and set curr up\n",
    "        if dir is up: set dir to right, set curr right, and increment count\n",
    "```"
   ]
  },
  {
   "cell_type": "code",
   "execution_count": 2,
   "metadata": {
    "jupyter": {
     "source_hidden": true
    }
   },
   "outputs": [],
   "source": [
    "def spiral(n):\n",
    "    count = 1\n",
    "    half = (n - 1) // 2\n",
    "    curr = (half, half)\n",
    "    dir = 'right'\n",
    "    res = [[0] for _ in range(n)]\n",
    "    for i in range(n):\n",
    "        r, c = curr\n",
    "        res[r][c] = i\n",
    "        if count % 2:\n",
    "            if dir == 'right':\n",
    "                dir = 'down'\n",
    "                curr = (r + 1, c)\n",
    "            elif dir == 'down':\n",
    "                dir = 'left'\n",
    "                curr = (r, c - 1)\n",
    "                count += 1\n",
    "        else:\n",
    "            if dir == 'left':\n",
    "                dir = 'up'\n",
    "                curr = (r - 1, c)\n",
    "            elif dir == 'up':\n",
    "                dir = 'right'\n",
    "                curr = (r, c + 1)\n",
    "                count += 1\n",
    "\n",
    "    return res"
   ]
  },
  {
   "cell_type": "markdown",
   "metadata": {
    "jp-MarkdownHeadingCollapsed": true,
    "jupyter": {
     "source_hidden": true
    }
   },
   "source": [
    "### Result\n",
    "\n",
    "- I got the pattern correct. It does increment by one each turn.\n",
    "- However, my implementation did not account for the need to write that many times before turning\n",
    "- It also missed a handy trick:\n",
    "    - We can start at the end and go until either we hit an edge OR a cell that's already been filled.\n",
    "    - This is not more efficient complexity. But it is less tedious to code and read."
   ]
  },
  {
   "cell_type": "markdown",
   "metadata": {
    "jupyter": {
     "source_hidden": true
    }
   },
   "source": [
    "## 2025-03-30\n",
    "\n",
    "Example\n",
    "\n",
    "```\n",
    "n=5\n",
    "16 17 18 19 20\n",
    "\n",
    "15 04 05 06 21\n",
    "\n",
    "14 03 00 07 22\n",
    " \n",
    "13 02 01 08 23\n",
    "\n",
    "12 11 10 09 24\n",
    "\n",
    "n=3\n",
    "4 5 6\n",
    "3 0 7\n",
    "2 1 8\n",
    "\n",
    "n=1\n",
    "0\n",
    "```\n",
    "\n",
    "Algo 1\n",
    "- Start from the end, working backwards\n",
    "- Turn when we hit the edge or an existing number\n",
    "- Use mod to make array circular\n",
    "\n",
    "T: O(n^2)\n",
    "S: O(1)\n"
   ]
  },
  {
   "cell_type": "code",
   "execution_count": 4,
   "metadata": {},
   "outputs": [],
   "source": [
    "def spiral(n):\n",
    "    res = [[0]*n for _ in range(n)]\n",
    "\n",
    "    def is_valid(r, c):\n",
    "        return 0 <= r < n and 0 <= c < n and res[r][c] == 0\n",
    "    \n",
    "    directions = [(-1, 0), (0, -1), (1, 0), (0, 1)]\n",
    "    dir = 0\n",
    "    curr = (n - 1, n - 1) # 2 2\n",
    "    val = (n * n) - 1 # 8\n",
    "\n",
    "    while val > 0:\n",
    "        r, c = curr # 0 2\n",
    "        res[r][c] = val # 6\n",
    "        val -= 1 # 5\n",
    "\n",
    "        if not is_valid(r + directions[dir][0], c + directions[dir][1]): # 1 2\n",
    "            dir = (dir + 1) % 4 # 1 % 4 = 1\n",
    "\n",
    "        curr = (r + directions[dir][0], c + directions[dir][1])\n",
    "\n",
    "    return res"
   ]
  },
  {
   "cell_type": "markdown",
   "metadata": {},
   "source": [
    "## Tests"
   ]
  },
  {
   "cell_type": "code",
   "execution_count": 6,
   "metadata": {},
   "outputs": [
    {
     "name": "stdout",
     "output_type": "stream",
     "text": [
      "Success\n"
     ]
    }
   ],
   "source": [
    "def run_tests():\n",
    "  tests = [\n",
    "      # Example from book\n",
    "      (5, [\n",
    "          [16, 17, 18, 19, 20],\n",
    "          [15, 4, 5, 6, 21],\n",
    "          [14, 3, 0, 7, 22],\n",
    "          [13, 2, 1, 8, 23],\n",
    "          [12, 11, 10, 9, 24]\n",
    "      ]),\n",
    "      # Edge case - 1x1\n",
    "      (1, [[0]]),\n",
    "      # Edge case - 3x3\n",
    "      (3, [\n",
    "          [4, 5, 6],\n",
    "          [3, 0, 7],\n",
    "          [2, 1, 8]\n",
    "      ]),\n",
    "  ]\n",
    "\n",
    "  for n, want in tests:\n",
    "    got = spiral(n)\n",
    "    assert got == want, f\"\\nspiral({n}): got: {got}, want: {want}\\n\"\n",
    "\n",
    "  print(\"Success\")\n",
    "\n",
    "run_tests()"
   ]
  },
  {
   "cell_type": "code",
   "execution_count": null,
   "metadata": {},
   "outputs": [],
   "source": []
  }
 ],
 "metadata": {
  "kernelspec": {
   "display_name": "project",
   "language": "python",
   "name": "project"
  },
  "language_info": {
   "codemirror_mode": {
    "name": "ipython",
    "version": 3
   },
   "file_extension": ".py",
   "mimetype": "text/x-python",
   "name": "python",
   "nbconvert_exporter": "python",
   "pygments_lexer": "ipython3",
   "version": "3.13.1"
  }
 },
 "nbformat": 4,
 "nbformat_minor": 4
}
