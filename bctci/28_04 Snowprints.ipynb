{
 "cells": [
  {
   "cell_type": "markdown",
   "metadata": {},
   "source": [
    "# Snowprints\n",
    "\n",
    "We are tracking *Elsa* an arctic fox, through a rectangular snowy field represented by a binary grid `field`, where a `1` denotes snowprints and `0` denotes no snowprints. We know that the fox crossed the field from left to right, so each column has exactly one `1`. Between two consecutive columns, the row of the `1` may remain the same, go up by one, or go down by one. Above the field (above the first row), is an icy river. Return how close the fox got the river, in terms of the number of rows between it and river. Assume that `field` has at least one row and one column."
   ]
  },
  {
   "cell_type": "markdown",
   "metadata": {},
   "source": [
    "## 2025-03-30\n",
    "\n",
    "- R = number of rows\n",
    "- C = number of columns\n",
    "- Return the smallest row\n",
    "\n",
    "Example\n",
    "```\n",
    "00000\n",
    "00100\n",
    "11010\n",
    "00001\n",
    "```\n",
    "\n",
    "Algo 1\n",
    "- Brute force\n",
    "- Linear search from top to bottom until we hit a 1\n",
    "T: O(R*C)\n",
    "S: O(1)\n",
    "\n",
    "Algo 2\n",
    "- Follow the prints\n",
    "    - Find the first print O(R)\n",
    "    - Keep track of the min R seen\n",
    "    - If the fox can only go forward, it has to cross in C steps O(C)\n",
    "\n",
    "T: O(R+C)\n",
    "S: O(1)"
   ]
  },
  {
   "cell_type": "code",
   "execution_count": null,
   "metadata": {},
   "outputs": [],
   "source": [
    "def snowprints(field):\n",
    "    R, C = len(field), len(field[0]) # 5 4\n",
    "    start = 0\n",
    "    for r in range(R):\n",
    "        if field[r][0] == 1:\n",
    "            start = r\n",
    "            break\n",
    "\n",
    "    def is_valid(r, c):\n",
    "        return 0 <= r < R and 0 <= c < C and field[r][c] == 1\n",
    "\n",
    "    directions = [(-1, 1), (0, 1), (1, 1)]\n",
    "    res = start # 2\n",
    "    curr = (start, 0) # 2 0\n",
    "    for _ in range(C):\n",
    "        r, c = curr # 2 1\n",
    "        for dr, dc in directions: # -1 1\n",
    "            if is_valid(r + dr, c + dc):\n",
    "                curr = (r + dr, c + dc) # 1 2\n",
    "                res = min(res, r + dr) # 1\n",
    "\n",
    "    return res"
   ]
  }
 ],
 "metadata": {
  "language_info": {
   "name": "python"
  }
 },
 "nbformat": 4,
 "nbformat_minor": 2
}
