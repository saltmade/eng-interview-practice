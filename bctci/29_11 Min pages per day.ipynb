{
 "cells": [
  {
   "cell_type": "markdown",
   "metadata": {},
   "source": [
    "# Min Pages Per Day\n",
    "\n",
    "You have upcoming interviews and have selected specific chapters from BCtCI to read beforehand. Given an array, `page_counts`, where each element represents a chapter’s page count, and the number of days, `days`, until your interview, determine the minimum number of pages you must read daily to finish on time. Assume that:\n",
    "\n",
    "- You must read all the pages of a chapter before moving on to another one.\n",
    "- If you finish a chapter on a given day, you practice for the rest of the day and don't start the next chapter until the next day.\n",
    "- len(page_counts) <= days."
   ]
  },
  {
   "cell_type": "markdown",
   "metadata": {},
   "source": [
    "Example\n",
    "```\n",
    "11 2 45 3\n",
    "10 days -> 8\n",
    "\n",
    "2 1 5 1 -> 9\n",
    "\n",
    "\n",
    "4 5 6 7 8 9\n",
    "l         \n",
    "          r\n",
    "    m\n",
    "```\n",
    "\n",
    "L = longest page count\n",
    "P = len page count\n",
    "D = days\n",
    "\n",
    "Algo 1\n",
    "- BF\n",
    "- Read x pages per day (start with len of page count)\n",
    "    - Increase the pages by 1 each time until we can reach the end of the sequence without running out of days\n",
    "T: O(LP^2)\n",
    "S: O(1)\n",
    "\n",
    "Algo 2\n",
    "- get the sum of page counts / days O(P) \n",
    "- bin search over range len page_counts - sum of page_counts / days O(LP log P/D)\n",
    "    - if you can't reach the end without using days, move left pointer\n",
    "T: O(LP log P/D)\n",
    "S: O(1)"
   ]
  },
  {
   "cell_type": "code",
   "execution_count": 3,
   "metadata": {},
   "outputs": [],
   "source": [
    "import math\n",
    "\n",
    "def min_pages_per_day(page_counts, days):\n",
    "    if days < len(page_counts):\n",
    "        return 0\n",
    "\n",
    "    upper = 0\n",
    "    for num in page_counts:\n",
    "        upper += math.ceil(num / days)\n",
    "    \n",
    "    def is_before(pages):\n",
    "        remaining = days\n",
    "        count = page_counts[0]\n",
    "        while i < len(page_counts):\n",
    "            count -= pages\n",
    "            if count <= 0:\n",
    "                i += 1\n",
    "                count = page_counts[i]\n",
    "                remaining -= 1\n",
    "\n",
    "        return remaining < 0\n",
    "\n",
    "    l, r = len(page_counts), upper\n",
    "    while r-l > 1:\n",
    "        mid = (r + l) // 2\n",
    "        if is_before(mid):\n",
    "            l = mid\n",
    "        else:\n",
    "            r = mid\n",
    "\n",
    "    return r"
   ]
  },
  {
   "cell_type": "markdown",
   "metadata": {},
   "source": [
    "### Result\n",
    "\n",
    "- I initially misunderstood the question, taking the number of days for the number of pages and I messed up rewriting the algo from the correct perspective, assuming the number of days was the upper bound\n",
    "    - Need to be careful to read and understand the question, and to blow away assumptions if I discover I misunderstood\n",
    "- Could have used the range: 0 - max(page_counts)\n",
    "    - We can never read more than a whole chapter in a day\n",
    "    - O(P) for the max of page counts\n",
    "    - O(log L) bin search * O(P) to simulate reading with that pages per day\n",
    "    - T: O(P log L)\n",
    "- Could also have simplified the is_before process significantly\n",
    "```\n",
    "def days_to_finish(page_counts, daily_limit):\n",
    "    days = 0\n",
    "    for pages in page_counts:\n",
    "        days += math.ceil(pages / daily_limit)\n",
    "    \n",
    "    return days\n",
    "\n",
    "def is_before(page_counts, daily_limit, days):\n",
    "    return days_to_finish(page_counts, daily_limit) < days\n",
    "```"
   ]
  },
  {
   "cell_type": "code",
   "execution_count": 4,
   "metadata": {},
   "outputs": [
    {
     "ename": "AssertionError",
     "evalue": "\nmin_pages_per_day([20, 15, 17, 10], 14): got: 7, want: 5\n",
     "output_type": "error",
     "traceback": [
      "\u001b[31m---------------------------------------------------------------------------\u001b[39m",
      "\u001b[31mNameError\u001b[39m                                 Traceback (most recent call last)",
      "\u001b[36mCell\u001b[39m\u001b[36m \u001b[39m\u001b[32mIn[4]\u001b[39m\u001b[32m, line 22\u001b[39m\n\u001b[32m     18\u001b[39m     got = min_pages_per_day(page_counts, days)\n\u001b[32m     19\u001b[39m     \u001b[38;5;28;01massert\u001b[39;00m got == want, \u001b[33mf\u001b[39m\u001b[33m\"\u001b[39m\u001b[38;5;130;01m\\n\u001b[39;00m\u001b[33mmin_pages_per_day(\u001b[39m\u001b[38;5;132;01m{\u001b[39;00mpage_counts\u001b[38;5;132;01m}\u001b[39;00m\u001b[33m, \u001b[39m\u001b[38;5;132;01m{\u001b[39;00mdays\u001b[38;5;132;01m}\u001b[39;00m\u001b[33m): got: \u001b[39m\u001b[38;5;132;01m{\u001b[39;00m\n\u001b[32m     20\u001b[39m \u001b[38;5;250m        \u001b[39mgot\u001b[38;5;132;01m}\u001b[39;00m\u001b[33m, want: \u001b[39m\u001b[38;5;132;01m{\u001b[39;00mwant\u001b[38;5;132;01m}\u001b[39;00m\u001b[38;5;130;01m\\n\u001b[39;00m\u001b[33m\"\u001b[39m\n\u001b[32m---> \u001b[39m\u001b[32m22\u001b[39m \u001b[43mrun_tests\u001b[49m\u001b[43m(\u001b[49m\u001b[43m)\u001b[49m\n",
      "\u001b[36mCell\u001b[39m\u001b[36m \u001b[39m\u001b[32mIn[4]\u001b[39m\u001b[32m, line 18\u001b[39m, in \u001b[36mrun_tests\u001b[39m\u001b[34m()\u001b[39m\n\u001b[32m      2\u001b[39m tests = [\n\u001b[32m      3\u001b[39m     \u001b[38;5;66;03m# Example 1 from book\u001b[39;00m\n\u001b[32m      4\u001b[39m     ([\u001b[32m20\u001b[39m, \u001b[32m15\u001b[39m, \u001b[32m17\u001b[39m, \u001b[32m10\u001b[39m], \u001b[32m14\u001b[39m, \u001b[32m5\u001b[39m),\n\u001b[32m   (...)\u001b[39m\u001b[32m     14\u001b[39m     ([\u001b[32m1\u001b[39m, \u001b[32m2\u001b[39m, \u001b[32m3\u001b[39m], \u001b[32m3\u001b[39m, \u001b[32m3\u001b[39m)\n\u001b[32m     15\u001b[39m ]\n\u001b[32m     17\u001b[39m \u001b[38;5;28;01mfor\u001b[39;00m page_counts, days, want \u001b[38;5;129;01min\u001b[39;00m tests:\n\u001b[32m---> \u001b[39m\u001b[32m18\u001b[39m   got = \u001b[43mmin_pages_per_day\u001b[49m\u001b[43m(\u001b[49m\u001b[43mpage_counts\u001b[49m\u001b[43m,\u001b[49m\u001b[43m \u001b[49m\u001b[43mdays\u001b[49m\u001b[43m)\u001b[49m\n\u001b[32m     19\u001b[39m   \u001b[38;5;28;01massert\u001b[39;00m got == want, \u001b[33mf\u001b[39m\u001b[33m\"\u001b[39m\u001b[38;5;130;01m\\n\u001b[39;00m\u001b[33mmin_pages_per_day(\u001b[39m\u001b[38;5;132;01m{\u001b[39;00mpage_counts\u001b[38;5;132;01m}\u001b[39;00m\u001b[33m, \u001b[39m\u001b[38;5;132;01m{\u001b[39;00mdays\u001b[38;5;132;01m}\u001b[39;00m\u001b[33m): got: \u001b[39m\u001b[38;5;132;01m{\u001b[39;00m\n\u001b[32m     20\u001b[39m \u001b[38;5;250m      \u001b[39mgot\u001b[38;5;132;01m}\u001b[39;00m\u001b[33m, want: \u001b[39m\u001b[38;5;132;01m{\u001b[39;00mwant\u001b[38;5;132;01m}\u001b[39;00m\u001b[38;5;130;01m\\n\u001b[39;00m\u001b[33m\"\u001b[39m\n",
      "\u001b[36mCell\u001b[39m\u001b[36m \u001b[39m\u001b[32mIn[1]\u001b[39m\u001b[32m, line 7\u001b[39m, in \u001b[36mmin_pages_per_day\u001b[39m\u001b[34m(page_counts, days)\u001b[39m\n\u001b[32m      5\u001b[39m upper = \u001b[32m0\u001b[39m\n\u001b[32m      6\u001b[39m \u001b[38;5;28;01mfor\u001b[39;00m num \u001b[38;5;129;01min\u001b[39;00m page_counts:\n\u001b[32m----> \u001b[39m\u001b[32m7\u001b[39m     upper += \u001b[43mmath\u001b[49m.ceil(num / days)\n\u001b[32m      9\u001b[39m \u001b[38;5;28;01mdef\u001b[39;00m\u001b[38;5;250m \u001b[39m\u001b[34mis_before\u001b[39m(pages):\n\u001b[32m     10\u001b[39m     remaining = days\n",
      "\u001b[31mNameError\u001b[39m: name 'math' is not defined"
     ]
    }
   ],
   "source": [
    "def run_tests():\n",
    "  tests = [\n",
    "      # Example 1 from book\n",
    "      ([20, 15, 17, 10], 14, 5),\n",
    "      # Example 2 from book\n",
    "      ([20, 15, 17, 10], 5, 17),\n",
    "      # Example 2 from book\n",
    "      ([20, 15, 17, 10], 17, 4),\n",
    "      # Edge case - empty array\n",
    "      ([], 1, 0),\n",
    "      # Edge case - single chapter\n",
    "      ([10], 5, 2),\n",
    "      # Edge case - days = chapters\n",
    "      ([1, 2, 3], 3, 3)\n",
    "  ]\n",
    "\n",
    "  for page_counts, days, want in tests:\n",
    "    got = min_pages_per_day(page_counts, days)\n",
    "    assert got == want, f\"\\nmin_pages_per_day({page_counts}, {days}): got: {\n",
    "        got}, want: {want}\\n\"\n",
    "\n",
    "run_tests()"
   ]
  },
  {
   "cell_type": "code",
   "execution_count": null,
   "metadata": {},
   "outputs": [],
   "source": []
  }
 ],
 "metadata": {
  "kernelspec": {
   "display_name": "Python 3 (ipykernel)",
   "language": "python",
   "name": "python3"
  },
  "language_info": {
   "codemirror_mode": {
    "name": "ipython",
    "version": 3
   },
   "file_extension": ".py",
   "mimetype": "text/x-python",
   "name": "python",
   "nbconvert_exporter": "python",
   "pygments_lexer": "ipython3",
   "version": "3.13.1"
  }
 },
 "nbformat": 4,
 "nbformat_minor": 4
}
