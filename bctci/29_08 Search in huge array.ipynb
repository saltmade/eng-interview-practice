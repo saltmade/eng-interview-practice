{
 "cells": [
  {
   "cell_type": "markdown",
   "metadata": {},
   "source": [
    "# Search in Huge Array\n",
    "\n",
    "You are given a sorted array `arr` that is so large that you can't know its length. You can only access elements through an API that provides two functions:\n",
    "- get(i): returns the element at index i if it exists, otherwise returns None/null\n",
    "- exists(i): returns `True` if index `i` is valid, `False` otherwise\n",
    "\n",
    "Given a target value `target`, return the index of `target` in the array if it exists, otherwise return -1.\n",
    "\n",
    "Note: The array is 0-indexed and all elements in the array are unique."
   ]
  },
  {
   "cell_type": "markdown",
   "metadata": {},
   "source": [
    "## 2025-04-07\n",
    "\n",
    "Example\n",
    "```\n",
    "target: 9\n",
    "0 1 2 3 4 5 6 7 8 9 10 11 12 13 14 n\n",
    "                l\n",
    "                                   r\n",
    "                           m\n",
    "```\n",
    "\n",
    "n = len arr\n",
    "\n",
    "Algo 1\n",
    "- BF\n",
    "T: O(n)\n",
    "S: O(1)\n",
    "\n",
    "\n",
    "Algo 2\n",
    "- Double in size and check if the target is in range\n",
    "- m doesn't exist\n",
    "    - move r to m\n",
    "- r doesn't exist\n",
    "    - move r to m\n",
    "T: O(log n * log n) \n",
    "S: O(1)\n",
    "\n",
    "Cases\n",
    "- Target is less than arr 0\n",
    "- Target at l\n",
    "- Target greater than the end of the arr\n",
    "- 2 is not a factor of n (e.g. 15)"
   ]
  },
  {
   "cell_type": "code",
   "execution_count": 2,
   "metadata": {},
   "outputs": [],
   "source": [
    "def search(target, fetch) -> int:\n",
    "    if not fetch(0):\n",
    "        return -1\n",
    "    if fetch(0) == target:\n",
    "        return 0\n",
    "\n",
    "    l, r = 0, 1\n",
    "    while fetch(r) and fetch(r) <= target:\n",
    "        r *= 2\n",
    "\n",
    "    def is_before(idx):\n",
    "        return fetch(idx) and fetch(idx) < target\n",
    "\n",
    "    while r - l > 1:\n",
    "        mid = (r + l) // 2\n",
    "        if is_before(mid):\n",
    "            l = mid\n",
    "        else:\n",
    "            r = mid\n",
    "    \n",
    "    if fetch(r) == target:\n",
    "        return r\n",
    "    \n",
    "    return -1"
   ]
  },
  {
   "cell_type": "markdown",
   "metadata": {},
   "source": [
    "### Result\n",
    "\n",
    "- Misattributed the time complexity\n",
    "    - The search for a right boundary happens before the search for the target\n",
    "    - Therefore these two searches are ADDED, not MULTIPLIED"
   ]
  },
  {
   "cell_type": "code",
   "execution_count": null,
   "metadata": {},
   "outputs": [
    {
     "ename": "",
     "evalue": "",
     "output_type": "error",
     "traceback": [
      "\u001b[1;31mRunning cells with 'Python 3.13.1' requires the ipykernel package.\n",
      "\u001b[1;31mRun the following command to install 'ipykernel' into the Python environment. \n",
      "\u001b[1;31mCommand: '/opt/homebrew/bin/python3 -m pip install ipykernel -U --user --force-reinstall'"
     ]
    }
   ],
   "source": [
    "def run_tests():\n",
    "  def make_fetch_function(secret_array):\n",
    "    def fetch(idx):\n",
    "      if idx >= len(secret_array) or idx < 0:\n",
    "        return -1\n",
    "      return secret_array[idx]\n",
    "    return fetch\n",
    "\n",
    "  tests = [\n",
    "      # Example 1 - target exists\n",
    "      (5, 2, [1, 3, 5, 7, 9]),\n",
    "      # Example 2 - target doesn't exist\n",
    "      (6, -1, [1, 3, 5, 7, 9]),\n",
    "      # Edge case - target at start\n",
    "      (1, 0, [1, 3, 5, 7, 9]),\n",
    "      # Edge case - target at end\n",
    "      (9, 4, [1, 3, 5, 7, 9]),\n",
    "      # All duplicates\n",
    "      (1, 0, [1, 1, 1, 1, 1, 1, 1, 1])\n",
    "  ]\n",
    "\n",
    "  for target, want, secret_array in tests:\n",
    "    fetch = make_fetch_function(secret_array)\n",
    "    got = search(target, fetch)\n",
    "    assert got == want, f\"search({target}): got {got}, want {want}\""
   ]
  },
  {
   "cell_type": "code",
   "execution_count": null,
   "metadata": {},
   "outputs": [],
   "source": []
  }
 ],
 "metadata": {
  "kernelspec": {
   "display_name": "Python 3",
   "language": "python",
   "name": "python3"
  },
  "language_info": {
   "codemirror_mode": {
    "name": "ipython",
    "version": 3
   },
   "file_extension": ".py",
   "mimetype": "text/x-python",
   "name": "python",
   "nbconvert_exporter": "python",
   "pygments_lexer": "ipython3",
   "version": "3.13.1"
  }
 },
 "nbformat": 4,
 "nbformat_minor": 4
}
