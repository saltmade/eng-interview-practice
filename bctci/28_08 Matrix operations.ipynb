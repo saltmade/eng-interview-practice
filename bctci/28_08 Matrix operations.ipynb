{
 "cells": [
  {
   "cell_type": "markdown",
   "metadata": {},
   "source": [
    "# Matrix operations\n",
    "\n",
    "Implement a `Matrix` class that can be initialized with a square grid fo floating point numbers. It must have methods for transposition, clockwise rotation, anticlockwise rotation, horizontal reflection, and vertical reflection. All the methods should take zero parameters, modify the matrix *in place*, using only `O(1)` extra space, and return nothing."
   ]
  },
  {
   "cell_type": "markdown",
   "metadata": {},
   "source": [
    "## 2025-03-31\n",
    "\n",
    "Example\n",
    "```\n",
    "1 2 3\n",
    "4 5 6\n",
    "7 8 9\n",
    "\n",
    "1 4 7\n",
    "2 5 8\n",
    "3 6 9\n",
    "```\n"
   ]
  },
  {
   "cell_type": "code",
   "execution_count": null,
   "metadata": {},
   "outputs": [],
   "source": [
    "class Matrix:\n",
    "    def __init__(self, grid):\n",
    "        self.matrix = [row.copy() for row in grid]\n",
    "\n",
    "    def transpose(self):\n",
    "        seen = set()\n",
    "        matrix = self.maxtrix\n",
    "        for r in range(len(matrix)):\n",
    "            for c in range(len(matrix[0])):\n",
    "                if (r, c) not in seen:\n",
    "                    matrix[r][c], matrix[c][r] = matrix[c][r], matrix[r][c]\n",
    "                    seen.add((r, c))\n",
    "                    seen.add((c, r))\n",
    "    \n",
    "    def reflect_horizontal(self):\n",
    "        matrix = self.matrix\n",
    "        for r in range(len(matrix)):\n",
    "            for c in range(len(matrix[0]) // 2)\n",
    "                inverse = len(matrix) - 1 - c\n",
    "                matrix[r][c], matrix[r][inverse] = matrix[r][inverse], matrix[r][c]\n",
    "    \n",
    "    def rotate(self):\n",
    "        matrix = self.matrix"
   ]
  },
  {
   "cell_type": "markdown",
   "metadata": {},
   "source": [
    "### Result\n",
    "\n",
    "- Transpose :: Instead of a seen set, I could have restricted the coordinates to those under the diagonal:\n",
    "```\n",
    "for r in range(len(matrix)):\n",
    "    for c in range(r):\n",
    "        ...\n",
    "```\n",
    "- Reflections can be done with `.reverse()` if allowed\n",
    "- Rotations can be handled with a combination of transposition and reflection \n",
    "    - clockwise :: transpose, reflect horizontally\n",
    "    - anti :: transpose, reflect vertically"
   ]
  }
 ],
 "metadata": {
  "language_info": {
   "name": "python"
  }
 },
 "nbformat": 4,
 "nbformat_minor": 2
}
