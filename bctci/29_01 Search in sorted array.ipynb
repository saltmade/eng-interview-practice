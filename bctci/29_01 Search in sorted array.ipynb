{
 "cells": [
  {
   "cell_type": "markdown",
   "metadata": {},
   "source": [
    "# Search in sorted array\n",
    "\n",
    "Given a sorted array of integers `arr`, and a target value `target`, return the target's index if it exists in the array, or `-1` if it doesn't."
   ]
  },
  {
   "cell_type": "code",
   "execution_count": null,
   "metadata": {},
   "outputs": [],
   "source": [
    "def bin_search(arr, target):\n",
    "    l, r = 0, len(arr) - 1\n",
    "    while l <= r:\n",
    "        mid = (l + r) // 2\n",
    "        if arr[mid] == target:\n",
    "            return mid\n",
    "        elif arr[mid] < target:\n",
    "            l = mid + 1\n",
    "        else:\n",
    "            r = mid - 1\n",
    "\n",
    "    return -1"
   ]
  },
  {
   "cell_type": "code",
   "execution_count": null,
   "metadata": {},
   "outputs": [],
   "source": [
    "# BCtCI Pattern\n",
    "def is_before(val, target):\n",
    "    return val < target\n",
    "\n",
    "def bin_search(arr, target):\n",
    "    if not arr:\n",
    "        return -1\n",
    "\n",
    "    l, r = 0, len(arr) - 1\n",
    "    if arr[l] >= target or arr[r] < target:\n",
    "        if arr[l] == target:\n",
    "            return l\n",
    "        return -1\n",
    "    \n",
    "    while r - l > 1:\n",
    "        mid = (l + r) // 2\n",
    "\n",
    "        if is_before(arr[mid], target):\n",
    "            l = mid\n",
    "        else:\n",
    "            r = mid\n",
    "    \n",
    "    if arr[r] == target:\n",
    "        return r\n",
    "    return -1"
   ]
  }
 ],
 "metadata": {
  "language_info": {
   "name": "python"
  }
 },
 "nbformat": 4,
 "nbformat_minor": 2
}
