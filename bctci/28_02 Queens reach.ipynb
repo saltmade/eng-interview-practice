{
 "cells": [
  {
   "cell_type": "markdown",
   "metadata": {},
   "source": [
    "# Queen's reach\n",
    "\n",
    "Imagine a board has a number of queens in it and no other pieces. We are given an `n x n` binary grid `board`, where `n > 0`, a `0` denotes an empty cell, and a `1` indicates a queen. Return a binary board with the same dimensions, where a `0` denotes that a cell is safe, and a `1` denotes that a cell is not safe. We say a cell is *safe* if there isn't a queen in it and no queen on the board can reach it in a single move."
   ]
  },
  {
   "cell_type": "markdown",
   "metadata": {},
   "source": [
    "## 2025-03-26\n",
    "\n",
    "- Instead of returning a list of tuples, return a grid\n",
    "- Mark the positions a queen can reach with a 1\n",
    "- Will need to do a search from each queen\n",
    "    - Initial queen positions?\n",
    "- Keep the result and input array separate\n",
    "\n",
    "Example \n",
    "\n",
    "00000 \n",
    "Q0000\n",
    "00000\n",
    "00Q00\n",
    "00Q00\n",
    "\n",
    "11100 \n",
    "Q1111\n",
    "11110\n",
    "11Q11\n",
    "11Q11\n",
    "\n",
    "\n",
    "Algo 1\n",
    "- Nested loop + walk array to find queens\n",
    "- n^2 = number of cells\n",
    "T: O(n^3) *all queens*\n",
    "S: O(1)"
   ]
  },
  {
   "cell_type": "code",
   "execution_count": null,
   "metadata": {},
   "outputs": [],
   "source": [
    "def queens_reach(board):\n",
    "    n = len(board)\n",
    "    res = [[0]*n for _ in board]\n",
    "\n",
    "    def is_valid(r, c):\n",
    "        inbounds = 0 <= r < n and 0 <= c < n\n",
    "        return inbounds and board[r][c] != 1\n",
    "\n",
    "    def reach(r, c):\n",
    "        directions = [(0, 1), (0, -1), (1, 0), (-1, 0), (1, 1), (1, -1), (-1, 1), (-1, -1)]\n",
    "        for dr, dc in directions:\n",
    "            nr, nc = r + dr, c + dc\n",
    "            while is_valid(nr, nc):\n",
    "                res[nr][nc] = 1\n",
    "                nr, nc = nr + dr, nc + dc\n",
    "        \n",
    "    for r in n:\n",
    "        for c in n:\n",
    "            if board[r][c]:\n",
    "                res[r][c] = 1\n",
    "                reach(r, c)\n",
    "\n",
    "    return res\n"
   ]
  },
  {
   "cell_type": "markdown",
   "metadata": {},
   "source": [
    "### Result\n",
    "\n",
    "- I specified the time complexity as `O(n^2)`, but we were told there are `n x n` cells. I.e. that `n` is only one row or column's worth\n",
    "    - Therefore the time complexity should be `O(n^3)`\n",
    "- Forgot to mark the queens"
   ]
  }
 ],
 "metadata": {
  "kernelspec": {
   "display_name": "Python 3",
   "language": "python",
   "name": "python3"
  },
  "language_info": {
   "name": "python",
   "version": "3.13.1"
  }
 },
 "nbformat": 4,
 "nbformat_minor": 2
}
