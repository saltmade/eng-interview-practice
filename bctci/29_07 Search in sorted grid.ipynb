{
 "cells": [
  {
   "cell_type": "markdown",
   "metadata": {},
   "source": [
    "# Search in Sorted Grid\n",
    "\n",
    "You are given a 2D integer array `grid` where:\n",
    "- Each row is sorted in ascending order from left to right\n",
    "- The first element of each row is greater than the last element of the previous row\n",
    "\n",
    "Given a target value `target`, return true if target is in grid, or false otherwise."
   ]
  },
  {
   "cell_type": "markdown",
   "metadata": {},
   "source": [
    "## 2025-04-07\n",
    "\n",
    "Example\n",
    "```\n",
    " -5 -4 -3 -2 -1\n",
    " 0  1  2  3  4\n",
    " 5  6  7  8  9\n",
    "10 11 12 13 14\n",
    "\n",
    "target 7 -> True\n",
    "```\n",
    "\n",
    "R = rows\n",
    "C = columns\n",
    "\n",
    "Algo 1\n",
    "- BF\n",
    "T: O(RC)\n",
    "S: O(1)\n",
    "\n",
    "Algo 2\n",
    "- Bin search the first col to find the row\n",
    "- Bin serach in the row to find the val\n",
    "T: O(R + C)\n",
    "S: O(1)\n",
    "\n",
    "Cases\n",
    "- Less than the val at 0 0\n",
    "- Greater than the val at -1 -1\n",
    "- Rows of different lengths?\n",
    "- Single row\n",
    "- Empty row"
   ]
  },
  {
   "cell_type": "code",
   "execution_count": null,
   "metadata": {},
   "outputs": [],
   "source": [
    "def search(grid, target) -> bool:\n",
    "    if target < grid[0][0] or target > grid[-1][-1]:\n",
    "        return False\n",
    "\n",
    "    def is_before(val, target):\n",
    "        return target < val\n",
    "\n",
    "    def bin_search(arr, target):\n",
    "        l, r = 0, len(arr) - 1\n",
    "        while r - l > 1:\n",
    "            mid = (r + l) // 2\n",
    "            if is_before(arr[mid], target):\n",
    "                r = mid\n",
    "            else:\n",
    "                l = mid\n",
    "        return r\n",
    "    \n",
    "    if target < grid[0][-1]:\n",
    "        row = 0\n",
    "    else:\n",
    "        zeroes = [row[0] for row in grid]\n",
    "        row = bin_search(zeroes, target)\n",
    "\n",
    "    col = bin_search(grid[row], target)\n",
    "    \n",
    "    if grid[row][col] == target:\n",
    "        return True\n",
    "\n",
    "    return False"
   ]
  },
  {
   "cell_type": "markdown",
   "metadata": {},
   "source": [
    "### Result\n",
    "\n",
    "- The need to create a new array of zero values violates the O(1) complexity I stated at the start\n",
    "  - Originally I didn't have this, but when I refactored the binary search out I needed to create it\n",
    "- Didn't recognize the \"Flatten the grid\" pattern, which treats the grid as a continuous array\n",
    "    - Row :: `idx // C`, e.g. `8 // 5 = 1` in the example I gave\n",
    "    - Col :: `idx % C`, e.g. `8 % 5 = 3` in the example I gave (keep in mind the 0-index nature of the array)\n",
    "- Note: the version I copied from the website asks for a `bool` return value, but the book asks for coordinates\n",
    "- Note: the book assumes all rows are the same width, though the problem does not state it. Otherwise the \"flatten the grid\" pattern does not work."
   ]
  }
 ],
 "metadata": {
  "kernelspec": {
   "display_name": "Python 3",
   "language": "python",
   "name": "python3"
  },
  "language_info": {
   "name": "python",
   "version": "3.13.1"
  }
 },
 "nbformat": 4,
 "nbformat_minor": 2
}
