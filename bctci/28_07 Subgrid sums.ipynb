{
 "cells": [
  {
   "cell_type": "markdown",
   "metadata": {},
   "source": [
    "# Subgrid sums\n",
    "\n",
    "Given a rectangular `RxC` grid of integers `grid`, with `R > 0` and `C > 0`, return a new grid with the same dimensions where each cell `[r,c]` contains the elements of the subgrid with `[r,c]` in the top-left corner and `[R-1, C-1]` in the bottom right corner."
   ]
  },
  {
   "cell_type": "markdown",
   "metadata": {},
   "source": [
    "## 2025-03-31\n",
    "\n",
    "Example\n",
    "```\n",
    "-1  2 3\n",
    " 4  0 0\n",
    "-2  0 9\n",
    "\n",
    "15 14 12\n",
    "11  9  9\n",
    " 7  9  9\n",
    "\n",
    " -1 5\n",
    " 2 9\n",
    "   \n",
    " -1 14\n",
    " 11 9\n",
    "```\n",
    "\n",
    "Algo 1\n",
    "\n",
    "- BF\n",
    "T: O((RC)^2)\n",
    "S: O(1)\n",
    "\n",
    "\n",
    "Algo 2\n",
    "- val = grid r c + diag val + (right - diag val) + (down - diag val)\n",
    "T: O(RC)\n",
    "S: O(1)"
   ]
  },
  {
   "cell_type": "code",
   "execution_count": null,
   "metadata": {},
   "outputs": [],
   "source": [
    "def sums(grid):\n",
    "    R, C = len(grid), len(grid[0]) # 2 2\n",
    "    res = [[0]*C for _ in range(R)]\n",
    "    def is_valid(r, c):\n",
    "        return 0 <= r < R and 0 <= c < C \n",
    "\n",
    "    for r in range(R-1, -1, -1): # 1\n",
    "        for c in range(C-1, -1, -1): # 0\n",
    "            right = res[r][c + 1] if is_valid(r, c+1) else 0 # 14\n",
    "            down = res[r+1][c] if is_valid(r+1, c) else 0 # 11\n",
    "            diag = res[r+1][c+1] if is_valid(r+1, c+1) else 0 # 9\n",
    "            val = grid[r][c] # -1\n",
    "            res[r][c] = val + right + down - diag\n",
    "    \n",
    "    return res\n"
   ]
  }
 ],
 "metadata": {
  "language_info": {
   "name": "python"
  }
 },
 "nbformat": 4,
 "nbformat_minor": 2
}
