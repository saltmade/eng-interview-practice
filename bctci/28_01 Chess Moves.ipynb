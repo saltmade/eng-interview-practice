{
 "cells": [
  {
   "cell_type": "markdown",
   "metadata": {},
   "source": [
    "# Chess Moves\n",
    "\n",
    "Given:\n",
    "- `board` :: an `n x n` binary grid, where `n < 0`, a `0` denotes an empty cell, and a `1` denotes an occupied cell (for this problem, it doesn't matter what piece is in it)\n",
    "- `piece` :: \"king\" or \"knight\" or \"queen\"\n",
    "- `r` and `c` :: `0 <= r < n` and `0 <= c < n`, which denote an occupied position on the board\n",
    "\n",
    "Return a list of all *unoccupied* cells in `board` that can be reached by the given `piece` in one move, starting from `[r, c]`. The order of the output cells does not matter."
   ]
  },
  {
   "cell_type": "markdown",
   "metadata": {},
   "source": [
    "## 2025-03-26\n",
    "\n",
    "Example\n",
    "\n",
    "0 0 0 0\n",
    "0 1 x 0\n",
    "0 0 1 0\n",
    "0 0 0 0\n",
    "\n",
    "K, N, Q\n",
    "king directions\n",
    "knight directions\n",
    "queen directions\n",
    "\n",
    "Algo 1\n",
    "- BFS\n",
    "- T: O(n)\n",
    "- S: O(n)"
   ]
  },
  {
   "cell_type": "code",
   "execution_count": null,
   "metadata": {},
   "outputs": [],
   "source": [
    "def chess_moves(board, piece, r, c):\n",
    "    n = len(board)\n",
    "    def is_valid(r, c):\n",
    "        nonlocal n\n",
    "        is_inbounds = 0 <= r < n and 0 <= c < n\n",
    "        return is_inbounds and board[r][c] == 0\n",
    "\n",
    "    def king_moves(r, c):\n",
    "        directions = [(0, 1), (1, 0), (-1, 0), (0, -1), (1, 1), (1, -1), (-1, 1), (-1, -1)]\n",
    "        res = []\n",
    "        for dir_r, dir_c in directions:\n",
    "            new_r, new_c = r + dir_r, c + dir_c\n",
    "            if is_valid(new_r, new_c):\n",
    "                res.append((new_r, new_c))\n",
    "\n",
    "        return res\n",
    "\n",
    "    def knight_moves(r, c):\n",
    "        directions = [(2, 1), (2, -1), (-2, 1), (-2, -1), (1, 2), (1, -2), (-1, 2), (-1, -2)]\n",
    "        res = []\n",
    "        for dir_r, dir_c in directions:\n",
    "            new_r, new_c = r + dir_r, c + dir_c\n",
    "            if is_valid(new_r, new_c):\n",
    "                res.append((new_r, new_c))\n",
    "\n",
    "        return res\n",
    "    \n",
    "    def queen_moves(r, c):\n",
    "        queue = collections.deque([(r, c, 0, 1), (r, c, 0, -1), (r, c, 1, 0) (r, c -1, 0), (r, c, 1, 1), (r, c, 1, -1), (r, c, -1, 1), (r, c, -1, -1)])\n",
    "        res = []\n",
    "        while queue:\n",
    "            cr, cc, dr, dc = queue.popleft()\n",
    "            if is_valid(cr, cc):\n",
    "                res.append(cr, cc)\n",
    "                queue.append((cr + dr, cc + dc, dr, dc))\n",
    "\n",
    "        return res\n",
    "\n",
    "    if piece == 'king':\n",
    "        return king_moves(r, c)\n",
    "    elif piece == 'knight':\n",
    "        return knight_moves(r, c)\n",
    "    else:\n",
    "        return queen_moves(r, c)\n"
   ]
  },
  {
   "cell_type": "markdown",
   "metadata": {},
   "source": [
    "### Result\n",
    "\n",
    "- Solution works, and is easy to read\n",
    "- It could be made more space efficient and less verbose using a nested while loop instead of a queue"
   ]
  },
  {
   "cell_type": "code",
   "execution_count": null,
   "metadata": {},
   "outputs": [],
   "source": [
    "...\n",
    "if piece == 'knight':\n",
    "    directions = knight_directions\n",
    "else:\n",
    "    directions = king_directions\n",
    "\n",
    "for dr, dc in directions:\n",
    "    nr, nc = r + dr, c + dc\n",
    "    if piece == \"queen\":\n",
    "        while is_valid(nr, nc):\n",
    "            res.append(nr, nc)\n",
    "            nr += dr\n",
    "            nc += dc\n",
    "    elif is_valid(nr, nc):\n",
    "        res.append(nr, nc)\n",
    "...    "
   ]
  }
 ],
 "metadata": {
  "kernelspec": {
   "display_name": "Python 3",
   "language": "python",
   "name": "python3"
  },
  "language_info": {
   "name": "python",
   "version": "3.13.1"
  }
 },
 "nbformat": 4,
 "nbformat_minor": 2
}
