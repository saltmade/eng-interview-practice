{
 "cells": [
  {
   "cell_type": "markdown",
   "metadata": {},
   "source": [
    "# Race overtaking\n",
    "\n",
    "Two racers p1 and p2 are racing on a track. You are given their positions at different timestamps as arrays p1 and p2. Find the timestamp when p2 overtakes p1. An overtake happens when p2's position becomes greater than p1's position. Return the index of the first position where p2 > p1."
   ]
  },
  {
   "cell_type": "markdown",
   "metadata": {},
   "source": [
    "## 2025-04-04\n",
    "\n",
    "Example\n",
    "```\n",
    "   0 1 2 3  4  5\n",
    "p1 2 4 6 8 10 12\n",
    "p2 1 3 5 7 11 13\n",
    "         l\n",
    "         m\n",
    "           r\n",
    "\n",
    "ans = 4\n",
    "is before\n",
    "    p1 is greater than or equal to p2\n",
    "```\n",
    "\n",
    "Cases\n",
    "- p1 or p2 is empty\n",
    "- p2 never crosses p1\n",
    "- p1 and p2 aren't the same length\n",
    "- some val of idx at p1 is the same as p2\n",
    "- len p1 == len p2 == 1\n",
    "- p2 starts more than p1"
   ]
  },
  {
   "cell_type": "code",
   "execution_count": null,
   "metadata": {},
   "outputs": [],
   "source": [
    "def overtaking(p1, p2):\n",
    "    def is_before(idx):\n",
    "        return p1[idx] >= p2[idx]\n",
    "\n",
    "    l, r = 0, len(p1) - 1\n",
    "    if not is_before(l):\n",
    "        return l\n",
    "    if is_before(r):\n",
    "        return len(p1)\n",
    "\n",
    "    while r - l > 1:\n",
    "        mid = (l + r) // 2\n",
    "        if is_before(mid):\n",
    "            l = mid\n",
    "        else:\n",
    "            r = mid\n",
    "    \n",
    "    return r"
   ]
  }
 ],
 "metadata": {
  "kernelspec": {
   "display_name": "Python 3",
   "language": "python",
   "name": "python3"
  },
  "language_info": {
   "name": "python",
   "version": "3.13.1"
  }
 },
 "nbformat": 4,
 "nbformat_minor": 2
}
