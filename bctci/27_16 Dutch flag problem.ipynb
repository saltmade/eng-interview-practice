{
 "cells": [
  {
   "cell_type": "markdown",
   "metadata": {},
   "source": [
    "# 27.16 Dutch Flag Problem\n",
    "\n",
    "## Problem\n",
    "\n",
    "Given an array arr containing only the characters 'R' (red), 'W' (white), and 'B' (blue), sort the array in-place so that the same colors are adjacent, with the colors in the order red, white, and blue."
   ]
  },
  {
   "cell_type": "markdown",
   "metadata": {},
   "source": [
    "## 2025-03-25\n",
    "\n",
    "Examples\n",
    "R W B B W R\n",
    "l\n",
    "          r\n",
    "RWRWBB\n",
    " l  \n",
    "  r\n",
    "RRWWBB\n",
    "    \n",
    "R\n",
    "W W W\n",
    "\n",
    "Algo 1\n",
    "- Two pass, two pointer\n",
    "- T: O(n)\n",
    "- S: O(1)"
   ]
  },
  {
   "cell_type": "code",
   "execution_count": null,
   "metadata": {},
   "outputs": [],
   "source": [
    "def color_sort(arr):\n",
    "    l, r = 0, len(arr) - 1\n",
    "    while l < r:\n",
    "        if arr[l] in ['R', 'W']:\n",
    "            l += 1\n",
    "        elif arr[r] == 'B':\n",
    "            r -= 1\n",
    "        else:\n",
    "            arr[l], arr[r] = arr[r], arr[l]\n",
    "            l += 1\n",
    "            r -= 1\n",
    "    \n",
    "    bound = 0\n",
    "    while bound < len(arr) and arr[bound] != 'B':\n",
    "        bound += 1\n",
    "    \n",
    "    l, r = 0, bound\n",
    "    while l < r:\n",
    "        if arr[l] == \"R\":\n",
    "            l += 1\n",
    "        elif arr[r] == 'W':\n",
    "            r -= 1\n",
    "        else:\n",
    "            arr[l], arr[r] = arr[r], arr[l]\n",
    "            l += 1\n",
    "            r -= 1"
   ]
  },
  {
   "cell_type": "markdown",
   "metadata": {},
   "source": [
    "### Result \n",
    "\n",
    "- Missed using bucket sort since I didn't think about how to use it to overwrite the existing array\n",
    "- Answer is acceptable, but not ideal"
   ]
  }
 ],
 "metadata": {
  "kernelspec": {
   "display_name": "Python 3",
   "language": "python",
   "name": "python3"
  },
  "language_info": {
   "name": "python",
   "version": "3.13.1"
  }
 },
 "nbformat": 4,
 "nbformat_minor": 2
}
