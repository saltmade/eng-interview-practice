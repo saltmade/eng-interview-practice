{
 "cells": [
  {
   "cell_type": "markdown",
   "id": "ff1c32dc",
   "metadata": {},
   "source": [
    "# Domain Resolver\n",
    "\n",
    "You manage a shared web hosting server with multiple IP addresses, and where multiple domains can share the same IP address. Each domain can have multiple subdomains. Implement a class, `DomainResolver`, that supports three methods:\n",
    "\n",
    "1. `register_domain(ip, domain)`: associates a domain with an IP. You can assume that this function will be called at most once for a given domain.\n",
    "2. `register_subdomain(domain, subdomain)`: adds a subdomain to a domain. You can assume that the domain will have been previously registered. Different domains can have a subdomain with the same name.\n",
    "3. `has_subdomain(ip, domain, subdomain)`: returns whether there is a domain registered at that IP that has the given subdomain.\n",
    "\n",
    "IPs, domains, and subdomains are strings."
   ]
  },
  {
   "cell_type": "markdown",
   "id": "3a716d72",
   "metadata": {},
   "source": [
    "## 2025-04-21\n",
    "\n",
    "- domain : ip, subdomain set"
   ]
  },
  {
   "cell_type": "code",
   "execution_count": null,
   "id": "0bcc864c",
   "metadata": {},
   "outputs": [],
   "source": [
    "class Domain:\n",
    "    def __init__(self, ip, domain):\n",
    "        self.ip = ip\n",
    "        self.domain = domain\n",
    "        self.subdomains = set()\n",
    "\n",
    "class DomainResolver:\n",
    "    def __init__(self):\n",
    "        self.cache = {}\n",
    "\n",
    "    def register_domain(self, ip, domain):\n",
    "        self.cache[domain] = Domain(ip, domain)\n",
    "\n",
    "    def register_subdomain(self, domain, subdomain):\n",
    "        self.cache[domain].subdomains.add(subdomain)\n",
    "\n",
    "    def has_subdomain(self, ip, domain, subdomain):\n",
    "        if domain not in self.cache:\n",
    "            return False\n",
    "        curr = self.cache[domain]\n",
    "        return curr.ip == ip and subdomain in curr.subdomains"
   ]
  },
  {
   "cell_type": "markdown",
   "id": "66b455fe",
   "metadata": {},
   "source": [
    "### Result\n",
    "\n",
    "- Forgot to check if the domain was in the cache\n",
    "- The solution stated by the book and website has two separate dicts:\n",
    "    1. ip to set of domains\n",
    "    2. domain to set of subdomains\n",
    "- This suggests that domain to IP might actually be many-to-many, where the stated rules of the problem suggest a one-to-many, ip::domain\n",
    "- My solution is equally performant, and IMO is even more explicit"
   ]
  }
 ],
 "metadata": {
  "language_info": {
   "name": "python"
  }
 },
 "nbformat": 4,
 "nbformat_minor": 5
}
