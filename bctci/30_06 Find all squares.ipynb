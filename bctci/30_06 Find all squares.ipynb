{
 "cells": [
  {
   "cell_type": "markdown",
   "id": "02ac66ed",
   "metadata": {},
   "source": [
    "# Find All Squares\n",
    "\n",
    "Given an array of unique integers, `arr`, return a list with all pairs of indices, `[i, j]`, such that `arr[i]^2 == arr[j]`. You can return the pairs in any order."
   ]
  },
  {
   "cell_type": "markdown",
   "id": "71443749",
   "metadata": {},
   "source": [
    "## 2025-04-21\n",
    "\n",
    "Example\n",
    "\n",
    "0  1 2 3 4 5 \n",
    "0 10 1 4 3 2\n",
    "\n",
    "-> 3, 5\n",
    "\n",
    "n = len arr\n",
    "\n",
    "Algo 1\n",
    "- BF\n",
    "- Compare every index to every other index\n",
    "T: O(n^2)\n",
    "S: O(1)\n",
    "\n",
    "Algo 2\n",
    "- Cache\n",
    "- Store every value to idx in a hashmap\n",
    "    - Check if the square or root is in the map and return the indices\n",
    "T: O(n)\n",
    "S: O(n)\n",
    "\n",
    "Cases\n",
    "- No two values match\n",
    "- Empty arr"
   ]
  },
  {
   "cell_type": "code",
   "execution_count": null,
   "id": "64cb468e",
   "metadata": {},
   "outputs": [],
   "source": [
    "def find_squares(arr):\n",
    "    if not arr:\n",
    "        return []\n",
    "\n",
    "    cache = {}\n",
    "    for idx, num in enumerate(arr):\n",
    "        cache[num] = idx\n",
    "\n",
    "    res = []\n",
    "    for idx, num in enumerate(arr):\n",
    "        sqr = num ** 2\n",
    "        if sqr in cache:\n",
    "            res.append([idx, cache[sqr]])\n",
    "    \n",
    "    return res"
   ]
  },
  {
   "cell_type": "markdown",
   "id": "50ca2edd",
   "metadata": {},
   "source": [
    "### Result\n",
    "\n",
    "- Forgot to ask about the case of 1, which is its own square\n",
    "    - According to the website this is valid"
   ]
  }
 ],
 "metadata": {
  "language_info": {
   "name": "python"
  }
 },
 "nbformat": 4,
 "nbformat_minor": 5
}
