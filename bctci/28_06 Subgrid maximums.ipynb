{
 "cells": [
  {
   "cell_type": "code",
   "execution_count": null,
   "metadata": {},
   "outputs": [],
   "source": []
  },
  {
   "cell_type": "markdown",
   "metadata": {},
   "source": [
    "# Subgrid maximums\n",
    "\n",
    "Given a rectangular `RxC` grid of integers `grid`, with `R > 0` and `C > 0`, return a new grid with the same dimensions where each cell `[r, c]` contains the maximum in the subgrid with `[r, c]` in the top-left corner and `[R-1, C-1]` in the bottom-right corner."
   ]
  },
  {
   "cell_type": "markdown",
   "metadata": {},
   "source": [
    "## 2025-03-30\n",
    "\n",
    "Example\n",
    "```\n",
    "1  5 3 -1\n",
    "4 -1 0 -1\n",
    "2  0 2 -1\n",
    "\n",
    "5 5 3 -1\n",
    "4 2 2 -1\n",
    "2 2 2 -1\n",
    "```\n",
    "\n",
    "R rows\n",
    "C columns\n",
    "\n",
    "Algo 1\n",
    "- BF: check every combination\n",
    "- Use the r,c of the origin + R,C to give the edges\n",
    "T: O((R*C)^2)\n",
    "S: O(1)\n",
    "\n",
    "Algo 2\n",
    "- Memoization?\n",
    "    walk backwards from the bottom right, to top left\n",
    "    max(curr, right, down)\n",
    "\n",
    "T: O(R*C)\n",
    "S: O(1)"
   ]
  },
  {
   "cell_type": "code",
   "execution_count": null,
   "metadata": {},
   "outputs": [],
   "source": [
    "def subgrid_max(grid):\n",
    "    R, C = len(grid), len(grid[0])\n",
    "\n",
    "    def is_valid(r, c):\n",
    "        return 0 <= r < R and 0 <= c < C\n",
    "\n",
    "    res = [[0]*C for _ in range(R)]\n",
    "    for r in range(R-1, -1, -1): # 1\n",
    "        for c in range(C-1, -1, -1): # 1\n",
    "            down = res[r+1][c] if is_valid(r+1, c) else -math.inf\n",
    "            right = res[r][c + 1] if is_valid(r, c+1) else -math.inf\n",
    "            res[r][c] = max(grid[r][c], down, right)\n",
    "\n",
    "    return res"
   ]
  }
 ],
 "metadata": {
  "language_info": {
   "name": "python"
  }
 },
 "nbformat": 4,
 "nbformat_minor": 2
}
