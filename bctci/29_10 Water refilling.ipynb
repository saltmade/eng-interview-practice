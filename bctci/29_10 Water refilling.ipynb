{
 "cells": [
  {
   "cell_type": "markdown",
   "metadata": {},
   "source": [
    "# Water Refilling\n",
    "\n",
    "You have an empty container with a capacity of `a` gallons of water and another container with a capacity of `b` gallons. Return how many times you can pour the second container full of water into the first one without overflowing.\n",
    "\n",
    "Constraint: You are not allowed to use the division operation, but you can still divide by powers of two with the right-shift operator, `>>`. Recall that `x >> 1` is the same as `x // 2`."
   ]
  },
  {
   "cell_type": "markdown",
   "metadata": {},
   "source": [
    "## 2025-04-08\n",
    "\n",
    "Example\n",
    "```\n",
    "30 4 -> 7\n",
    "4 8 16 ... 32\n",
    "l\n",
    "              r\n",
    "\n",
    "30 15 7 3 = 4 O(log a)\n",
    "4 * 2 = 8\n",
    "0 1 2 3 4 ... 8 O(log a)\n",
    "```\n",
    "\n",
    "a = len a\n",
    "b = len b\n",
    "\n",
    "Algo 1\n",
    "- BF\n",
    "- Add b until you reach a\n",
    "T: O(a)\n",
    "S: O(1)\n",
    "\n",
    "Algo 2\n",
    "- right shift\n",
    "- a >> 1 until we are lower than b\n",
    "- multiply that number by 2\n",
    "- bin search in the range from 1 to new val\n",
    "    - check if the result is less than the target\n",
    "T: O(log a)\n",
    "S: O(1)"
   ]
  },
  {
   "cell_type": "code",
   "execution_count": null,
   "metadata": {},
   "outputs": [],
   "source": [
    "def num_refills(a, b) -> int:\n",
    "    if not b or b >= a:\n",
    "        if b == a:\n",
    "            return 1\n",
    "        return 0\n",
    "\n",
    "    max_val = 1\n",
    "    i = a\n",
    "    while i >= b:\n",
    "        i >>= 1\n",
    "        max_val += 1\n",
    "\n",
    "    def is_before(multiplier):\n",
    "        return b * multiplier <= a\n",
    "    \n",
    "    max_val *= 2\n",
    "    l, r = 1, max_val\n",
    "    while r - l > 1:\n",
    "        mid = (r + l) >> 1\n",
    "        if is_before(mid):\n",
    "            l = mid\n",
    "        else:\n",
    "            r = mid\n",
    "    \n",
    "    return l"
   ]
  },
  {
   "cell_type": "markdown",
   "metadata": {},
   "source": [
    "### Result\n",
    "\n",
    "- I used the shift trick supplied to find the max val, but forgot I wasn't allowed to use it in the binary search\n",
    "    - I had tunnel vision applying the formula I'm used to\n",
    "    - Note: I've updated just that line to be able to run the tests\n",
    "- I could also have shortened the binary search range significantly setting `l = max_val`\n",
    "```\n",
    "k = 2\n",
    "while is_before(k*2):\n",
    "    k *= 2\n",
    "\n",
    "l, r = k, k*2\n",
    "...\n",
    "```"
   ]
  },
  {
   "cell_type": "code",
   "execution_count": null,
   "metadata": {},
   "outputs": [],
   "source": [
    "def run_tests():\n",
    "  tests = [\n",
    "    # Basic cases\n",
    "    (10, 2, 5),\n",
    "    (10, 3, 3),\n",
    "    (10, 4, 2),\n",
    "    (10, 5, 2),\n",
    "    # Large numbers\n",
    "    (1_000_000, 1, 1_000_000),\n",
    "    # Large numbers with multiple refills\n",
    "    (1_000_000, 500_000, 2),\n",
    "    # Random cases\n",
    "    (18, 5, 3),\n",
    "    (182_983, 90, 2033),\n",
    "  ]\n",
    "\n",
    "  for a, b, expected in tests:\n",
    "    result = num_refills(a, b)\n",
    "    assert result == expected, f\"num_refills({a}, {b}): got {result}, want {expected}\"\n",
    "\n",
    "run_tests()"
   ]
  }
 ],
 "metadata": {
  "language_info": {
   "name": "python"
  }
 },
 "nbformat": 4,
 "nbformat_minor": 2
}
