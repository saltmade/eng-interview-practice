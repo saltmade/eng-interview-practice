{
 "cells": [
  {
   "cell_type": "markdown",
   "metadata": {},
   "source": [
    "# 2-Array 2-Sum\n",
    "\n",
    "You are given two non-empty arrays of integers, `sorted_arr` and `unsorted_arr`. The first one is sorted, but the second is not. The goal is to find one element from each array with sum 0. If you can find them, return an array with their indices, starting with the element in sorted_arr. Otherwise, return [-1, -1]. Use O(1) extra space and do not modify the input."
   ]
  },
  {
   "cell_type": "markdown",
   "metadata": {},
   "source": [
    "## 2025-04-03\n",
    "\n",
    "Example\n",
    "```\n",
    " 0  1 2 3 4 5\n",
    "-5 -3 0 1 2 7\n",
    "        l\n",
    "          r\n",
    "        m\n",
    "\n",
    "0  1  2 3 \n",
    "-2 18 1 5\n",
    "i\n",
    "\n",
    "is before\n",
    "    val is less than target * -1\n",
    "\n",
    "S = length of sorted\n",
    "U = length of unsorted\n",
    "\n",
    "Algo 1\n",
    "- Binary search using the val in the unsorted array as the target\n",
    "T: O(U log S)\n",
    "```"
   ]
  },
  {
   "cell_type": "code",
   "execution_count": null,
   "metadata": {},
   "outputs": [],
   "source": [
    "def two_sum(sorted_arr, unsorted_arr):\n",
    "    def bin_search(target):\n",
    "        l, r = 0, len(sorted_arr) - 1\n",
    "\n",
    "        if sorted_arr[l] > target or sorted_arr[r] < target:\n",
    "            return -1\n",
    "        if sorted_arr[l] == target:\n",
    "            return l\n",
    "\n",
    "        while r - l > 1:\n",
    "            mid = (r + l) // 2\n",
    "            if sorted_arr[mid] < target:\n",
    "                l = mid\n",
    "            else:\n",
    "                r = mid\n",
    "        if sorted_arr[r] == target:\n",
    "            return r\n",
    "        return -1\n",
    "        \n",
    "    for idx, val in enumerate(unsorted_arr):\n",
    "        idx_2 = bin_search(-val)\n",
    "        if idx_2 != -1:\n",
    "            return [idx_2, idx]\n",
    "\n",
    "    return [-1, -1]"
   ]
  },
  {
   "cell_type": "markdown",
   "metadata": {},
   "source": [
    "### Result\n",
    "\n",
    "- Mostly there!\n",
    "- Forgot to handle the case where the target value is outside the range\n",
    "- Forgot to handle the case where the target value is at the left pointer\n",
    "- Could have saved time by making the target negative, rather than multiply by -1 throughout bin_search (I implemented this after I reviewed the solution so it doesn't show here)"
   ]
  }
 ],
 "metadata": {
  "language_info": {
   "name": "python"
  }
 },
 "nbformat": 4,
 "nbformat_minor": 2
}
